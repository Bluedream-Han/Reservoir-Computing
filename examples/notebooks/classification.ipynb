{
 "cells": [
  {
   "cell_type": "markdown",
   "metadata": {},
   "source": [
    "# Time series classification"
   ]
  },
  {
   "cell_type": "code",
   "execution_count": 1,
   "metadata": {},
   "outputs": [],
   "source": [
    "import pprint\n",
    "import numpy as np\n",
    "from sklearn.preprocessing import OneHotEncoder\n",
    "from reservoir_computing.modules import RC_model\n",
    "from reservoir_computing.utils import compute_test_scores\n",
    "from reservoir_computing.datasets import ClfLoader\n",
    "\n",
    "np.random.seed(0) # For reproducibility"
   ]
  },
  {
   "cell_type": "markdown",
   "metadata": {},
   "source": [
    "## Configure the RC model"
   ]
  },
  {
   "cell_type": "code",
   "execution_count": 2,
   "metadata": {},
   "outputs": [
    {
     "name": "stdout",
     "output_type": "stream",
     "text": [
      "{'bidir': True,\n",
      " 'circle': False,\n",
      " 'connectivity': 0.25,\n",
      " 'dimred_method': 'tenpca',\n",
      " 'input_scaling': 0.1,\n",
      " 'leak': 0.6,\n",
      " 'mts_rep': 'reservoir',\n",
      " 'n_dim': 75,\n",
      " 'n_drop': 5,\n",
      " 'n_internal_units': 500,\n",
      " 'noise_level': 0.01,\n",
      " 'readout_type': 'lin',\n",
      " 'spectral_radius': 0.59,\n",
      " 'w_ridge': 5.0,\n",
      " 'w_ridge_embedding': 10.0}\n"
     ]
    }
   ],
   "source": [
    "config = {}\n",
    "\n",
    "# Hyperarameters of the reservoir\n",
    "config['n_internal_units'] = 500        # size of the reservoir\n",
    "config['spectral_radius'] = 0.59        # largest eigenvalue of the reservoir\n",
    "config['leak'] = 0.6                    # amount of leakage in the reservoir state update (None or 1.0 --> no leakage)\n",
    "config['connectivity'] = 0.25           # percentage of nonzero connections in the reservoir\n",
    "config['input_scaling'] = 0.1           # scaling of the input weights\n",
    "config['noise_level'] = 0.01            # noise in the reservoir state update\n",
    "config['n_drop'] = 5                    # transient states to be dropped\n",
    "config['bidir'] = True                  # if True, use bidirectional reservoir\n",
    "config['circle'] = False                # use reservoir with circle topology\n",
    "\n",
    "# Dimensionality reduction hyperparameters\n",
    "config['dimred_method'] = 'tenpca'      # options: {None (no dimensionality reduction), 'pca', 'tenpca'}\n",
    "config['n_dim'] = 75                    # number of resulting dimensions after the dimensionality reduction procedure\n",
    "\n",
    "# Type of MTS representation\n",
    "config['mts_rep'] = 'reservoir'         # MTS representation:  {'last', 'mean', 'output', 'reservoir'}\n",
    "config['w_ridge_embedding'] = 10.0      # regularization parameter of the ridge regression\n",
    "\n",
    "# Type of readout\n",
    "config['readout_type'] = 'lin'          # readout used for classification: {'lin', 'mlp', 'svm'}\n",
    "config['w_ridge'] = 5.0                 # regularization of the ridge regression readout\n",
    "\n",
    "pprint.pprint(config)"
   ]
  },
  {
   "cell_type": "markdown",
   "metadata": {},
   "source": [
    "## Prepare the data"
   ]
  },
  {
   "cell_type": "code",
   "execution_count": 3,
   "metadata": {},
   "outputs": [
    {
     "name": "stdout",
     "output_type": "stream",
     "text": [
      "Loaded Japanese_Vowels dataset.\n",
      "Number of classes: 9\n",
      "Data shapes:\n",
      "  Xtr: (270, 29, 12)\n",
      "  Ytr: (270, 1)\n",
      "  Xte: (370, 29, 12)\n",
      "  Yte: (370, 1)\n"
     ]
    }
   ],
   "source": [
    "Xtr, Ytr, Xte, Yte = ClfLoader().get_data('Japanese_Vowels')"
   ]
  },
  {
   "cell_type": "code",
   "execution_count": 4,
   "metadata": {},
   "outputs": [],
   "source": [
    "# One-hot encoding for labels\n",
    "onehot_encoder = OneHotEncoder(sparse_output=False)\n",
    "Ytr = onehot_encoder.fit_transform(Ytr)\n",
    "Yte = onehot_encoder.transform(Yte)"
   ]
  },
  {
   "cell_type": "markdown",
   "metadata": {},
   "source": [
    "## Initialize, train and evaluate the RC model"
   ]
  },
  {
   "cell_type": "code",
   "execution_count": 5,
   "metadata": {},
   "outputs": [],
   "source": [
    "classifier =  RC_model(**config)"
   ]
  },
  {
   "cell_type": "code",
   "execution_count": 6,
   "metadata": {},
   "outputs": [
    {
     "name": "stdout",
     "output_type": "stream",
     "text": [
      "Training completed in 0.01 min\n"
     ]
    }
   ],
   "source": [
    "# Train the model\n",
    "tr_time = classifier.fit(Xtr, Ytr) "
   ]
  },
  {
   "cell_type": "code",
   "execution_count": 7,
   "metadata": {},
   "outputs": [
    {
     "name": "stdout",
     "output_type": "stream",
     "text": [
      "Accuracy = 0.981, F1 = 0.981\n"
     ]
    }
   ],
   "source": [
    "# Compute predictions on test data\n",
    "pred_class = classifier.predict(Xte) \n",
    "accuracy, f1 = compute_test_scores(pred_class, Yte)\n",
    "print(f\"Accuracy = {accuracy:.3f}, F1 = {f1:.3f}\")"
   ]
  }
 ],
 "metadata": {
  "kernelspec": {
   "display_name": "sta2003",
   "language": "python",
   "name": "python3"
  },
  "language_info": {
   "codemirror_mode": {
    "name": "ipython",
    "version": 3
   },
   "file_extension": ".py",
   "mimetype": "text/x-python",
   "name": "python",
   "nbconvert_exporter": "python",
   "pygments_lexer": "ipython3",
   "version": "3.10.13"
  }
 },
 "nbformat": 4,
 "nbformat_minor": 2
}
